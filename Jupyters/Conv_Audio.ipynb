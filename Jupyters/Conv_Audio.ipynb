{
 "cells": [
  {
   "cell_type": "code",
   "execution_count": null,
   "metadata": {},
   "outputs": [],
   "source": [
    "import os\n",
    "import string\n",
    "import numpy as np\n",
    "import configparser\n",
    "\n",
    "from datetime import date\n",
    "from pytube import YouTube\n",
    "from moviepy.editor import VideoFileClip"
   ]
  },
  {
   "attachments": {},
   "cell_type": "markdown",
   "metadata": {},
   "source": [
    "#### Download Youtube video and extract the audio in .wav"
   ]
  },
  {
   "cell_type": "code",
   "execution_count": null,
   "metadata": {},
   "outputs": [],
   "source": [
    "def path_url():\n",
    "    arq = configparser.RawConfigParser()\n",
    "    arq.read('config.txt')\n",
    "\n",
    "    # Get the video link and save path\n",
    "    video_url =  arq.get('URLS','url')\n",
    "    save_path = arq.get('Path','save_path')\n",
    "\n",
    "    today_date = date.today().strftime('%d%m%Y')\n",
    "\n",
    "    sub_save_path = save_path + today_date + '/'\n",
    "    print('Link and Path were collected\\n')\n",
    "    \n",
    "    return video_url, sub_save_path\n",
    "\n",
    "def aud_ext(sub_save_path, rename_filename):  # Extract .wav file from a .mp4 or 3gp file  \n",
    "    video_path = os.path.join(sub_save_path, f'{rename_filename}') \n",
    "    output_path = os.path.join(sub_save_path, f'{rename_filename[:-5]}.wav')\n",
    "\n",
    "    video_clip = VideoFileClip(video_path)\n",
    "    audio_clip = video_clip.audio\n",
    "    audio_clip.write_audiofile(output_path, codec='pcm_s16le')\n",
    "    print('The .wav file was saved with success!')\n",
    "    \n",
    "def main():\n",
    "    video_url, sub_save_path = path_url()\n",
    "\n",
    "    youtube = YouTube(video_url)\n",
    "    print('passed')\n",
    "\n",
    "    stream = youtube.streams.first()\n",
    "    print('two')\n",
    "\n",
    "    stream.download(sub_save_path)\n",
    "    print('The video was downloaded')\n",
    "\n",
    "    #Rename the downloaded file\n",
    "    original_filename = stream.default_filename\n",
    "    \n",
    "    # Remove any problematic characters from the video title\n",
    "    ## First cleaning step\n",
    "    valid_chars = \"-.’'_() %s%s\" % (string.ascii_letters, string.digits)\n",
    "    original_filename = ''.join(c for c in original_filename if c in valid_chars)\n",
    "    new_filename = original_filename.replace(\" \",\"\")\n",
    "\n",
    "    ## Second step\n",
    "    valid_chars = \"_. %s%s\" % (string.ascii_letters, string.digits)\n",
    "    new_filename = ''.join(c for c in new_filename if c in valid_chars)\n",
    "\n",
    "\n",
    "    rename_filename = original_filename.replace(original_filename, new_filename)\n",
    "\n",
    "    rename_filename = os.path.join(sub_save_path, rename_filename)\n",
    "    original_save = os.path.join(sub_save_path, original_filename)\n",
    "\n",
    "    os.rename(original_save,  rename_filename)\n",
    "\n",
    "    print('\\nThe file was renamed and The Audio extraction starts')\n",
    "    aud_ext(sub_save_path, rename_filename)\n",
    "\n"
   ]
  },
  {
   "cell_type": "code",
   "execution_count": null,
   "metadata": {},
   "outputs": [],
   "source": [
    "main()"
   ]
  },
  {
   "attachments": {},
   "cell_type": "markdown",
   "metadata": {},
   "source": [
    "#### Separete the vocal from the rst of the sounds in a .wav file"
   ]
  },
  {
   "cell_type": "code",
   "execution_count": null,
   "metadata": {},
   "outputs": [],
   "source": [
    "import librosa\n",
    "import numpy as np\n",
    "\n",
    "from scipy.io import wavfile"
   ]
  },
  {
   "cell_type": "code",
   "execution_count": null,
   "metadata": {},
   "outputs": [],
   "source": [
    "aud_file = ''"
   ]
  },
  {
   "cell_type": "code",
   "execution_count": null,
   "metadata": {},
   "outputs": [],
   "source": [
    "audio,sr = librosa.load(aud_file)"
   ]
  },
  {
   "cell_type": "code",
   "execution_count": null,
   "metadata": {},
   "outputs": [],
   "source": [
    "# Compute a magnitude spectrogram\n",
    "spec = np.abs(librosa.stft(audio))"
   ]
  },
  {
   "cell_type": "code",
   "execution_count": null,
   "metadata": {},
   "outputs": [],
   "source": [
    "# Convert the magnitude spectrogram to decibels (dB)\n",
    "spec_db = librosa.amplitude_to_db(spec, ref=np.max)\n"
   ]
  },
  {
   "cell_type": "code",
   "execution_count": null,
   "metadata": {},
   "outputs": [],
   "source": [
    "# Estimate the vocals using a pre-trained model or signal processing techniques\n",
    "# Example: Use harmonic-percussive source separation (HPSS)\n",
    "harmonic, percussive = librosa.effects.hpss(spec_db)\n"
   ]
  },
  {
   "cell_type": "code",
   "execution_count": null,
   "metadata": {},
   "outputs": [],
   "source": [
    "# Invert the sepatated vocals back to the time domain\n",
    "vocals = librosa.istft(harmonic)"
   ]
  },
  {
   "cell_type": "code",
   "execution_count": null,
   "metadata": {},
   "outputs": [],
   "source": [
    "# Rescale the audio to 16 bit integer range\n",
    "vocal_int = (vocals*(2**15-1)).astype(np.int16)"
   ]
  },
  {
   "cell_type": "code",
   "execution_count": null,
   "metadata": {},
   "outputs": [],
   "source": [
    "# Output\n",
    "out = ''\n",
    "wavfile.write(out, sr, vocal_int)"
   ]
  },
  {
   "cell_type": "code",
   "execution_count": null,
   "metadata": {},
   "outputs": [],
   "source": [
    "from pydub import AudioSegment\n",
    "import os"
   ]
  },
  {
   "cell_type": "code",
   "execution_count": null,
   "metadata": {},
   "outputs": [],
   "source": [
    "def convert_wav_to_mp3(wav_file, mp3_file):\n",
    "    # Load WAV file\n",
    "    audio = AudioSegment.from_wav(wav_file)\n",
    "    \n",
    "    # Export as MP3 file\n",
    "    audio.export(mp3_file, format='mp3')\n"
   ]
  },
  {
   "cell_type": "code",
   "execution_count": null,
   "metadata": {},
   "outputs": [],
   "source": [
    "wav_file = '/Vocal_Extraction/Results/Vid_Aud/28052023/aud.wav'\n",
    "mp3_file = 'Vocal_Extraction/Results/Vid_Aud/28052023/aud.mp3'\n",
    "convert_wav_to_mp3(wav_file, mp3_file)\n"
   ]
  },
  {
   "cell_type": "code",
   "execution_count": null,
   "metadata": {},
   "outputs": [],
   "source": []
  }
 ],
 "metadata": {
  "kernelspec": {
   "display_name": "YT",
   "language": "python",
   "name": "python3"
  },
  "language_info": {
   "codemirror_mode": {
    "name": "ipython",
    "version": 3
   },
   "file_extension": ".py",
   "mimetype": "text/x-python",
   "name": "python",
   "nbconvert_exporter": "python",
   "pygments_lexer": "ipython3",
   "version": "3.9.16"
  },
  "orig_nbformat": 4
 },
 "nbformat": 4,
 "nbformat_minor": 2
}
